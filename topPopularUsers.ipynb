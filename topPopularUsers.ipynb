{
 "cells": [
  {
   "cell_type": "code",
   "execution_count": 1,
   "id": "581a0797",
   "metadata": {},
   "outputs": [
    {
     "name": "stdout",
     "output_type": "stream",
     "text": [
      "key user_details_narendramodi\n",
      "Enter number of users: 4\n",
      "from db\n",
      "0.600744\n"
     ]
    },
    {
     "data": {
      "text/html": [
       "<div>\n",
       "<style scoped>\n",
       "    .dataframe tbody tr th:only-of-type {\n",
       "        vertical-align: middle;\n",
       "    }\n",
       "\n",
       "    .dataframe tbody tr th {\n",
       "        vertical-align: top;\n",
       "    }\n",
       "\n",
       "    .dataframe thead th {\n",
       "        text-align: right;\n",
       "    }\n",
       "</style>\n",
       "<table border=\"1\" class=\"dataframe\">\n",
       "  <thead>\n",
       "    <tr style=\"text-align: right;\">\n",
       "      <th></th>\n",
       "      <th>name</th>\n",
       "      <th>screen_name</th>\n",
       "      <th>followers_count</th>\n",
       "      <th>friends_count</th>\n",
       "      <th>num_of_tweets</th>\n",
       "    </tr>\n",
       "  </thead>\n",
       "  <tbody>\n",
       "    <tr>\n",
       "      <th>0</th>\n",
       "      <td>Narendra Modi</td>\n",
       "      <td>narendramodi</td>\n",
       "      <td>55782751</td>\n",
       "      <td>2364</td>\n",
       "      <td>4</td>\n",
       "    </tr>\n",
       "    <tr>\n",
       "      <th>1</th>\n",
       "      <td>The New York Times</td>\n",
       "      <td>nytimes</td>\n",
       "      <td>46361159</td>\n",
       "      <td>904</td>\n",
       "      <td>1</td>\n",
       "    </tr>\n",
       "    <tr>\n",
       "      <th>2</th>\n",
       "      <td>Amitabh Bachchan</td>\n",
       "      <td>SrBachchan</td>\n",
       "      <td>41596464</td>\n",
       "      <td>1833</td>\n",
       "      <td>1</td>\n",
       "    </tr>\n",
       "    <tr>\n",
       "      <th>3</th>\n",
       "      <td>Shah Rukh Khan</td>\n",
       "      <td>iamsrk</td>\n",
       "      <td>40026760</td>\n",
       "      <td>77</td>\n",
       "      <td>2</td>\n",
       "    </tr>\n",
       "  </tbody>\n",
       "</table>\n",
       "</div>"
      ],
      "text/plain": [
       "                 name   screen_name  followers_count  friends_count  \\\n",
       "0       Narendra Modi  narendramodi         55782751           2364   \n",
       "1  The New York Times       nytimes         46361159            904   \n",
       "2    Amitabh Bachchan    SrBachchan         41596464           1833   \n",
       "3      Shah Rukh Khan        iamsrk         40026760             77   \n",
       "\n",
       "   num_of_tweets  \n",
       "0              4  \n",
       "1              1  \n",
       "2              1  \n",
       "3              2  "
      ]
     },
     "metadata": {},
     "output_type": "display_data"
    },
    {
     "name": "stdout",
     "output_type": "stream",
     "text": [
      "key user_details_narendramodi\n",
      "key top_popular_users_4\n",
      "key user_details_narendramodi\n",
      "key top_popular_users_4\n",
      "key user_details_narendramodi\n",
      "key top_popular_users_4\n"
     ]
    }
   ],
   "source": [
    "import search_app as app\n",
    "app.top_popular_users()"
   ]
  },
  {
   "cell_type": "code",
   "execution_count": null,
   "id": "66c345ce",
   "metadata": {},
   "outputs": [],
   "source": []
  }
 ],
 "metadata": {
  "kernelspec": {
   "display_name": "Python 3",
   "language": "python",
   "name": "python3"
  },
  "language_info": {
   "codemirror_mode": {
    "name": "ipython",
    "version": 3
   },
   "file_extension": ".py",
   "mimetype": "text/x-python",
   "name": "python",
   "nbconvert_exporter": "python",
   "pygments_lexer": "ipython3",
   "version": "3.8.8"
  }
 },
 "nbformat": 4,
 "nbformat_minor": 5
}
