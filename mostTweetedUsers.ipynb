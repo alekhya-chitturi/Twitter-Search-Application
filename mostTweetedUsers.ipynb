{
 "cells": [
  {
   "cell_type": "code",
   "execution_count": null,
   "id": "b2d2baa1",
   "metadata": {},
   "outputs": [
    {
     "name": "stdout",
     "output_type": "stream",
     "text": [
      "key user_details_narendramodi\n",
      "key top_popular_users_4\n"
     ]
    }
   ],
   "source": [
    "import search_app as app\n",
    "app.most_tweeted_users()"
   ]
  },
  {
   "cell_type": "code",
   "execution_count": null,
   "id": "c1e99907",
   "metadata": {},
   "outputs": [],
   "source": []
  }
 ],
 "metadata": {
  "kernelspec": {
   "display_name": "Python 3",
   "language": "python",
   "name": "python3"
  },
  "language_info": {
   "codemirror_mode": {
    "name": "ipython",
    "version": 3
   },
   "file_extension": ".py",
   "mimetype": "text/x-python",
   "name": "python",
   "nbconvert_exporter": "python",
   "pygments_lexer": "ipython3",
   "version": "3.8.8"
  }
 },
 "nbformat": 4,
 "nbformat_minor": 5
}
