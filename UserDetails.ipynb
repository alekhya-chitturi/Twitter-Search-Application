{
 "cells": [
  {
   "cell_type": "code",
   "execution_count": 1,
   "id": "0e11f5fb",
   "metadata": {},
   "outputs": [],
   "source": [
    "import search_app as app"
   ]
  },
  {
   "cell_type": "code",
   "execution_count": 2,
   "id": "17917328",
   "metadata": {},
   "outputs": [
    {
     "name": "stdout",
     "output_type": "stream",
     "text": [
      "Enter user screen name: narendramodi\n"
     ]
    },
    {
     "data": {
      "text/html": [
       "<div>\n",
       "<style scoped>\n",
       "    .dataframe tbody tr th:only-of-type {\n",
       "        vertical-align: middle;\n",
       "    }\n",
       "\n",
       "    .dataframe tbody tr th {\n",
       "        vertical-align: top;\n",
       "    }\n",
       "\n",
       "    .dataframe thead th {\n",
       "        text-align: right;\n",
       "    }\n",
       "</style>\n",
       "<table border=\"1\" class=\"dataframe\">\n",
       "  <thead>\n",
       "    <tr style=\"text-align: right;\">\n",
       "      <th></th>\n",
       "      <th>name</th>\n",
       "      <th>screen_name</th>\n",
       "      <th>followers_count</th>\n",
       "      <th>friends_count</th>\n",
       "      <th>num_of_tweets</th>\n",
       "    </tr>\n",
       "  </thead>\n",
       "  <tbody>\n",
       "    <tr>\n",
       "      <th>0</th>\n",
       "      <td>Narendra Modi</td>\n",
       "      <td>narendramodi</td>\n",
       "      <td>55782751</td>\n",
       "      <td>2364</td>\n",
       "      <td>4</td>\n",
       "    </tr>\n",
       "  </tbody>\n",
       "</table>\n",
       "</div>"
      ],
      "text/plain": [
       "            name   screen_name  followers_count  friends_count  num_of_tweets\n",
       "0  Narendra Modi  narendramodi         55782751           2364              4"
      ]
     },
     "metadata": {},
     "output_type": "display_data"
    },
    {
     "name": "stdout",
     "output_type": "stream",
     "text": [
      "key user_details_narendramodi\n",
      "key user_details_narendramodi\n",
      "key user_details_narendramodi\n",
      "key user_details_narendramodi\n",
      "key user_details_narendramodi\n",
      "key user_details_narendramodi\n",
      "key user_details_narendramodi\n",
      "key user_details_narendramodi\n",
      "key user_details_narendramodi\n",
      "key user_details_narendramodi\n",
      "key user_details_narendramodi\n",
      "key user_details_narendramodi\n",
      "key user_details_narendramodi\n",
      "key user_details_narendramodi\n",
      "key user_details_narendramodi\n",
      "key user_details_narendramodi\n",
      "key user_details_narendramodi\n",
      "key user_details_narendramodi\n",
      "key user_details_narendramodi\n",
      "key user_details_narendramodi\n",
      "key user_details_narendramodi\n",
      "key user_details_narendramodi\n",
      "key user_details_narendramodi\n",
      "key user_details_narendramodi\n"
     ]
    }
   ],
   "source": [
    "app.user_details()"
   ]
  },
  {
   "cell_type": "code",
   "execution_count": null,
   "id": "e57c69fb",
   "metadata": {},
   "outputs": [],
   "source": []
  },
  {
   "cell_type": "code",
   "execution_count": null,
   "id": "94cd0c85",
   "metadata": {},
   "outputs": [],
   "source": []
  }
 ],
 "metadata": {
  "kernelspec": {
   "display_name": "Python 3",
   "language": "python",
   "name": "python3"
  },
  "language_info": {
   "codemirror_mode": {
    "name": "ipython",
    "version": 3
   },
   "file_extension": ".py",
   "mimetype": "text/x-python",
   "name": "python",
   "nbconvert_exporter": "python",
   "pygments_lexer": "ipython3",
   "version": "3.8.8"
  }
 },
 "nbformat": 4,
 "nbformat_minor": 5
}
