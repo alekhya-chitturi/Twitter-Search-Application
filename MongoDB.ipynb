{
 "cells": [
  {
   "cell_type": "code",
   "execution_count": 2,
   "id": "338dc8c0",
   "metadata": {},
   "outputs": [],
   "source": [
    "import pymongo\n",
    "import json"
   ]
  },
  {
   "cell_type": "code",
   "execution_count": 3,
   "id": "0bd14704",
   "metadata": {},
   "outputs": [],
   "source": [
    "client = pymongo.MongoClient(\"mongodb://localhost:27017\")\n",
    "db = client[\"twitter\"]"
   ]
  },
  {
   "cell_type": "code",
   "execution_count": 4,
   "id": "75ea349a",
   "metadata": {},
   "outputs": [],
   "source": [
    "#db.tweets.drop()"
   ]
  },
  {
   "cell_type": "code",
   "execution_count": 6,
   "id": "231ba278",
   "metadata": {},
   "outputs": [],
   "source": [
    "selected_columns = ['id', 'created_at', 'text', 'source', 'quote_count', 'reply_count', 'retweet_count', 'favorite_count', 'entities']\n",
    "\n",
    "def filter_func(item):\n",
    "    key, value = item\n",
    "    \n",
    "    if key in selected_columns:\n",
    "        return True\n",
    "    else:\n",
    "        return False"
   ]
  },
  {
   "cell_type": "code",
   "execution_count": 7,
   "id": "253b79d3",
   "metadata": {},
   "outputs": [],
   "source": [
    "def cleaning(data):\n",
    "        \n",
    "        doc = dict(filter(filter_func, data.items()))\n",
    "        doc['user_id'] = data['user']['id']      \n",
    "        doc['_id'] = doc['id']\n",
    "        \n",
    "        #formating the date field\n",
    "        format =  \"%a %b %d %H:%M:%S %z %Y\"\n",
    "        obj = strptime(doc['created_at'], format)\n",
    "        doc['created_at'] = strftime('%Y-%m-%d %H:%M:%S', obj)\n",
    "        \n",
    "        #extracting hashtags\n",
    "        hashtag_list = []\n",
    "        for i in doc['entities']['hashtags']:\n",
    "                hashtag_list.append(i['text'])\n",
    "        doc['hashtags'] = hashtag_list  \n",
    "        \n",
    "        #Extracting user mentions\n",
    "        user_mentions = []\n",
    "        for i in doc['entities']['user_mentions']:\n",
    "            user_mentions.append(i['screen_name'])\n",
    "        doc['user_mentions'] = user_mentions\n",
    "        \n",
    "        del doc['id']\n",
    "        del doc['entities']\n",
    "        return doc"
   ]
  },
  {
   "cell_type": "code",
   "execution_count": 8,
   "id": "1fb02b6d",
   "metadata": {},
   "outputs": [],
   "source": [
    "def load_data(file_name):\n",
    "    with open(file_name, \"r\") as f1:\n",
    "        for line in f1:\n",
    "            try:\n",
    "                data = json.loads(line)\n",
    "                doc = cleaning(data)\n",
    "\n",
    "                if 'retweeted_status' in data:\n",
    "                    doc['retweeted_status_id'] = data['retweeted_status']['id']\n",
    "                    retweet = cleaning(data['retweeted_status'])\n",
    "\n",
    "                    try:\n",
    "                        db.tweets.insert_one(retweet)\n",
    "                    except Exception:\n",
    "                        pass\n",
    "\n",
    "                db.tweets.insert_one(doc)\n",
    "\n",
    "            except Exception:\n",
    "                continue"
   ]
  },
  {
   "cell_type": "code",
   "execution_count": 9,
   "id": "99a99f7f",
   "metadata": {},
   "outputs": [],
   "source": [
    "load_data(\"corona-out-3\")"
   ]
  },
  {
   "cell_type": "code",
   "execution_count": 7,
   "id": "43707800",
   "metadata": {},
   "outputs": [
    {
     "data": {
      "text/plain": [
       "112023"
      ]
     },
     "execution_count": 7,
     "metadata": {},
     "output_type": "execute_result"
    }
   ],
   "source": [
    "db.tweets.count_documents({})"
   ]
  },
  {
   "cell_type": "code",
   "execution_count": null,
   "id": "3d7fea74",
   "metadata": {},
   "outputs": [],
   "source": []
  }
 ],
 "metadata": {
  "kernelspec": {
   "display_name": "Python 3",
   "language": "python",
   "name": "python3"
  },
  "language_info": {
   "codemirror_mode": {
    "name": "ipython",
    "version": 3
   },
   "file_extension": ".py",
   "mimetype": "text/x-python",
   "name": "python",
   "nbconvert_exporter": "python",
   "pygments_lexer": "ipython3",
   "version": "3.8.8"
  }
 },
 "nbformat": 4,
 "nbformat_minor": 5
}
