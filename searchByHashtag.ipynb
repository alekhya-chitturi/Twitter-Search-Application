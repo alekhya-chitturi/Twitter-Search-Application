{
 "cells": [
  {
   "cell_type": "code",
   "execution_count": 2,
   "id": "334431b0",
   "metadata": {},
   "outputs": [
    {
     "name": "stdout",
     "output_type": "stream",
     "text": [
      "Enter a hashtag: corona\n",
      "Enter number of top tweets: 4\n",
      "Enter 1 to order by date, 2 to order by most retweeted: 1\n",
      "Do you want date range(y|n):n\n",
      "from db\n"
     ]
    }
   ],
   "source": [
    "import search_app as app\n",
    "app.search_by_hashtag()"
   ]
  },
  {
   "cell_type": "code",
   "execution_count": null,
   "id": "e971d338",
   "metadata": {},
   "outputs": [],
   "source": []
  }
 ],
 "metadata": {
  "kernelspec": {
   "display_name": "Python 3",
   "language": "python",
   "name": "python3"
  },
  "language_info": {
   "codemirror_mode": {
    "name": "ipython",
    "version": 3
   },
   "file_extension": ".py",
   "mimetype": "text/x-python",
   "name": "python",
   "nbconvert_exporter": "python",
   "pygments_lexer": "ipython3",
   "version": "3.8.8"
  }
 },
 "nbformat": 4,
 "nbformat_minor": 5
}
